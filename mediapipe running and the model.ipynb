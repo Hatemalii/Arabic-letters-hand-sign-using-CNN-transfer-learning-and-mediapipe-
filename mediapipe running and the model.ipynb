{
 "cells": [
  {
   "cell_type": "code",
   "execution_count": 6,
   "id": "280b71cc",
   "metadata": {},
   "outputs": [
    {
     "name": "stdout",
     "output_type": "stream",
     "text": [
      "Collecting arabic-reshaper\n",
      "  Downloading arabic_reshaper-3.0.0-py3-none-any.whl (20 kB)\n",
      "Collecting python-bidi\n",
      "  Downloading python_bidi-0.6.6-cp311-cp311-win_amd64.whl (160 kB)\n",
      "     ------------------------------------ 160.6/160.6 kB 957.6 kB/s eta 0:00:00\n",
      "Installing collected packages: python-bidi, arabic-reshaper\n",
      "Successfully installed arabic-reshaper-3.0.0 python-bidi-0.6.6\n",
      "Note: you may need to restart the kernel to use updated packages.\n"
     ]
    },
    {
     "name": "stderr",
     "output_type": "stream",
     "text": [
      "\n",
      "[notice] A new release of pip available: 22.3 -> 25.2\n",
      "[notice] To update, run: python.exe -m pip install --upgrade pip\n"
     ]
    }
   ],
   "source": [
    "pip install arabic-reshaper python-bidi\n"
   ]
  },
  {
   "cell_type": "code",
   "execution_count": null,
   "id": "7f342c12",
   "metadata": {},
   "outputs": [
    {
     "name": "stderr",
     "output_type": "stream",
     "text": [
      "WARNING:absl:Compiled the loaded model, but the compiled metrics have yet to be built. `model.compile_metrics` will be empty until you train or evaluate the model.\n"
     ]
    }
   ],
   "source": [
    "from PIL import ImageFont, ImageDraw, Image\n",
    "import cv2\n",
    "import numpy as np\n",
    "import tensorflow as tf\n",
    "import time\n",
    "import arabic_reshaper\n",
    "from bidi.algorithm import get_display\n",
    "\n",
    "# Load model\n",
    "model = tf.keras.models.load_model(\"mobilenet_finetuned.h5\")\n",
    "\n",
    "# Labels (your classes)\n",
    "labels = ['ع',\"ال\",\"ا\",\"ب\",\"ض\",\"د\",\"ف\",\"غ\",\"ح\",\"ه\",\"ج\",\"ك\",\"خ\",\"لا\",\"ل\",\"م\",\"ن\",\"ق\",\"ر\",\"ص\",\"س\",\"ش\",\"ط\",\"ت\",\"ة\",\"ذ\",\"ث\",\"و\",\"ي\",\"ظ\",\"ز\"] \n",
    "IMG_SIZE = 224\n",
    "\n",
    "# Load font (make sure arial.ttf supports Arabic or replace with another Arabic font)\n",
    "fontpath = \"arial.ttf\"\n",
    "font = ImageFont.truetype(fontpath, 48)\n",
    "\n",
    "cap = cv2.VideoCapture(0)\n",
    "\n",
    "sentence = \"\"       # our collected text\n",
    "last_added = time.time()\n",
    "cooldown = 10      # seconds between adding letters\n",
    "\n",
    "while True:\n",
    "    ret, frame = cap.read()\n",
    "    frame = cv2.flip(frame, 1)\n",
    "    if not ret:\n",
    "        break\n",
    "\n",
    "    # Preprocess\n",
    "    img = cv2.resize(frame, (IMG_SIZE, IMG_SIZE))\n",
    "    img = img.astype(\"float32\") / 255.0\n",
    "    img = np.expand_dims(img, axis=0)\n",
    "\n",
    "    # Predict\n",
    "    pred = model.predict(img, verbose=0)\n",
    "    class_id = np.argmax(pred)\n",
    "    confidence = np.max(pred)\n",
    "\n",
    "    if confidence > 0.95:\n",
    "        class_name = labels[class_id]\n",
    "    else:\n",
    "        class_name = \"?\"\n",
    "\n",
    "    # Append letter if confident & cooldown passed\n",
    "    if class_name != \"?\" and time.time() - last_added > cooldown:\n",
    "        sentence += class_name\n",
    "        last_added = time.time()\n",
    "\n",
    "    # Convert frame to PIL for drawing Arabic text\n",
    "    frame_pil = Image.fromarray(cv2.cvtColor(frame, cv2.COLOR_BGR2RGB))\n",
    "    draw = ImageDraw.Draw(frame_pil)\n",
    "\n",
    "    # Show current letter\n",
    "    reshaped_letter = arabic_reshaper.reshape(class_name)\n",
    "    bidi_letter = get_display(reshaped_letter)\n",
    "    draw.text((30, 50), f\"{bidi_letter} ({confidence:.2f})\", font=font, fill=(0,255,0,0))\n",
    "\n",
    "    # Show built sentence (reshaped + RTL)\n",
    "    reshaped_sentence = arabic_reshaper.reshape(sentence)\n",
    "    bidi_sentence = get_display(reshaped_sentence)\n",
    "    draw.text((30, 120), bidi_sentence, font=font, fill=(255,0,0,0))\n",
    "\n",
    "    \n",
    "    frame = cv2.cvtColor(np.array(frame_pil), cv2.COLOR_RGB2BGR)\n",
    "    cv2.imshow(\"Arabic Sign\", frame)\n",
    "\n",
    "    \n",
    "    if cv2.waitKey(1) & 0xFF == ord(\"c\"):\n",
    "        sentence = \"\"\n",
    "\n",
    "    \n",
    "    if cv2.waitKey(1)  == ord(\"q\"):\n",
    "        break\n",
    "\n",
    "cap.release()\n",
    "cv2.destroyAllWindows()\n"
   ]
  }
 ],
 "metadata": {
  "kernelspec": {
   "display_name": "Python 3",
   "language": "python",
   "name": "python3"
  },
  "language_info": {
   "codemirror_mode": {
    "name": "ipython",
    "version": 3
   },
   "file_extension": ".py",
   "mimetype": "text/x-python",
   "name": "python",
   "nbconvert_exporter": "python",
   "pygments_lexer": "ipython3",
   "version": "3.11.0"
  }
 },
 "nbformat": 4,
 "nbformat_minor": 5
}
